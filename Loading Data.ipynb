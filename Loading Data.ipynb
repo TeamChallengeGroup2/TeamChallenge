{
 "cells": [
  {
   "cell_type": "raw",
   "metadata": {},
   "source": [
    "This code gives as output the slices of end-diastolic and end-systolic frames of 100 patients, including both the initial and segmented images.\n",
    "\n",
    "To know how many slices (N) the patient number X has, use:\n",
    "N = slice_count[X] - slice_count[X-1]\n",
    "\n",
    "To get his slice number n (n being a number between 1 and N, including both), use:\n",
    "Y = output[slice_count[X-1] + n-1]\n",
    "\n",
    "Then:\n",
    "Y[0] = patient number\n",
    "Y[1] = slice number\n",
    "Y[2] = ED 2D original image\n",
    "Y[3] = ED 2D ground truth\n",
    "Y[4] = ES 2D original image\n",
    "Y[5] = ES 2D ground truth"
   ]
  },
  {
   "cell_type": "code",
   "execution_count": 1,
   "metadata": {},
   "outputs": [],
   "source": [
    "import os\n",
    "import numpy as np\n",
    "import SimpleITK as sitk"
   ]
  },
  {
   "cell_type": "code",
   "execution_count": 2,
   "metadata": {},
   "outputs": [],
   "source": [
    "l=[]\n",
    "for i, name in enumerate(os.listdir('Data')):\n",
    "    data = open('Data\\{}\\Info.cfg'.format(name), 'r')\n",
    "    \n",
    "    ED=data.readline()    #end-diastolic frame information\n",
    "    for s in ED.split():\n",
    "        if s.isdigit():   #end-diastolic frame number\n",
    "            #reading the end-diastolic 3d images:\n",
    "            if int(s)<10:\n",
    "                im_EDframe= sitk.ReadImage('Data\\{}\\{}_frame0{}.nii.gz'.format(name,name,s))\n",
    "                im_EDgt=sitk.ReadImage('Data\\{}\\{}_frame0{}.nii.gz'.format(name,name,s))\n",
    "            else:\n",
    "                im_EDframe= sitk.ReadImage('Data\\{}\\{}_frame{}.nii.gz'.format(name,name,s))\n",
    "                im_EDgt=sitk.ReadImage('Data\\{}\\{}_frame{}_gt.nii.gz'.format(name,name,s))\n",
    "                \n",
    "    ES=data.readline()    #end-systolic frame information\n",
    "    for s in ES.split():\n",
    "        if s.isdigit():   #end-systolic frame number\n",
    "            #reading the end-systolic 3d images:\n",
    "            if int(s)<10:\n",
    "                im_ESframe= sitk.ReadImage('Data\\{}\\{}_frame0{}.nii.gz'.format(name,name,s))\n",
    "                im_ESgt=sitk.ReadImage('Data\\{}\\{}_frame0{}.nii.gz'.format(name,name,s))\n",
    "            else:\n",
    "                im_ESframe= sitk.ReadImage('Data\\{}\\{}_frame{}.nii.gz'.format(name,name,s))\n",
    "                im_ESgt=sitk.ReadImage('Data\\{}\\{}_frame{}_gt.nii.gz'.format(name,name,s))\n",
    "                \n",
    "    #Converting the 3d images into 3 dimensional arrays:        \n",
    "    arr_EDframe= sitk.GetArrayFromImage(im_EDframe)\n",
    "    arr_EDgt= sitk.GetArrayFromImage(im_EDgt)\n",
    "    arr_ESframe= sitk.GetArrayFromImage(im_ESframe)\n",
    "    arr_ESgt= sitk.GetArrayFromImage(im_ESgt)\n",
    "    \n",
    "    NSlices=arr_EDframe.shape[0]\n",
    "    \n",
    "    #l=list with the patient number, the number of slices per frame, and the four 3D frames as arrays\n",
    "    l.append([i+1, NSlices,arr_EDframe,arr_EDgt,arr_ESframe,arr_ESgt])\n",
    "    \n",
    "    \n",
    "#output=list with the patient number, the slices number, and the four 2D slices as arrays\n",
    "slice_count=[0]\n",
    "output=[]\n",
    "for i in range(100):\n",
    "    n=l[i][1]\n",
    "    for h in range(n):\n",
    "        output.append([l[i][0],h+1,l[i][2][h],l[i][3][h],l[i][4][h],l[i][5][h]])\n",
    "    slice_count.append(slice_count[i]+n)"
   ]
  }
 ],
 "metadata": {
  "kernelspec": {
   "display_name": "Python 3",
   "language": "python",
   "name": "python3"
  },
  "language_info": {
   "codemirror_mode": {
    "name": "ipython",
    "version": 3
   },
   "file_extension": ".py",
   "mimetype": "text/x-python",
   "name": "python",
   "nbconvert_exporter": "python",
   "pygments_lexer": "ipython3",
   "version": "3.6.8"
  }
 },
 "nbformat": 4,
 "nbformat_minor": 2
}
